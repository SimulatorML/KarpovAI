{
 "cells": [
  {
   "cell_type": "code",
   "execution_count": 9,
   "metadata": {},
   "outputs": [],
   "source": [
    "# # load API key\n",
    "import os\n",
    "from dotenv import load_dotenv\n",
    "\n",
    "# to log\n",
    "import logging\n",
    "\n",
    "# parse json file with transcribed videos\n",
    "import json\n",
    "\n",
    "# import openai\n",
    "\n",
    "from llama_index import Document\n",
    "from llama_index.llms import OpenAI\n",
    "from llama_index.evaluation import DatasetGenerator, RelevancyEvaluator, FaithfulnessEvaluator\n",
    "\n",
    "from llama_index import StorageContext, load_index_from_storage\n",
    "from llama_index import ServiceContext\n",
    "\n",
    "import pandas as pd\n",
    "from llama_index.llms import OpenAI"
   ]
  },
  {
   "cell_type": "code",
   "execution_count": null,
   "metadata": {},
   "outputs": [],
   "source": [
    "    # get the API key to the variable\n",
    "    load_dotenv()\n",
    "\n",
    "    try:\n",
    "        openai.api_key = os.getenv(\"API_KEY\")\n",
    "    except:\n",
    "        pass"
   ]
  },
  {
   "cell_type": "code",
   "execution_count": 3,
   "metadata": {},
   "outputs": [],
   "source": [
    "# from llama_index.node_parser import SimpleNodeParser\n",
    "# from data_pipelines.parser_transcribe import ParserTranscribe, get_video_urls"
   ]
  },
  {
   "cell_type": "code",
   "execution_count": 10,
   "metadata": {},
   "outputs": [],
   "source": [
    "path = '/Users/dmitrii.shiriaev/Library/CloudStorage/OneDrive-KarolinskaInstitutet/Code/simulator-ml/KarpovAI'\n",
    "\n",
    "# set the logging\n",
    "logging.basicConfig(filename=f'{path}/question_generation/question_generation.log',  # Name of the log file\n",
    "                    level=logging.DEBUG,     # Logging level\n",
    "                    format='%(asctime)s - %(levelname)s - %(message)s',  # Format of log messages\n",
    "                    filemode='w')  # Overwrite the log file on each script run\n",
    "\n",
    "logging.debug('Run started')"
   ]
  },
  {
   "cell_type": "code",
   "execution_count": 11,
   "metadata": {},
   "outputs": [],
   "source": [
    "with open(f\"{path}/data/video_info.json\", \"r\", encoding=\"utf-8\") as f:\n",
    "    data = json.load(f)\n",
    "\n",
    "data = data[:1]"
   ]
  },
  {
   "cell_type": "code",
   "execution_count": 12,
   "metadata": {},
   "outputs": [],
   "source": [
    "docs = [\n",
    "    Document(\n",
    "        text=d[\"text\"][0],\n",
    "        metadata={\"url\": d[\"url\"][0], \"title\": d[\"title\"][0]},\n",
    "    )\n",
    "    for d in data\n",
    "]\n"
   ]
  },
  {
   "cell_type": "code",
   "execution_count": 14,
   "metadata": {},
   "outputs": [],
   "source": [
    "text = data[0]['text']\n",
    "\n",
    "logging.debug(f'example of text object: {text}')\n"
   ]
  },
  {
   "cell_type": "code",
   "execution_count": 16,
   "metadata": {},
   "outputs": [
    {
     "ename": "ValueError",
     "evalue": "No API key found for OpenAI.\nPlease set either the OPENAI_API_KEY environment variable or openai.api_key prior to initialization.\nAPI keys can be found or created at https://platform.openai.com/account/api-keys\n",
     "output_type": "error",
     "traceback": [
      "\u001b[0;31m---------------------------------------------------------------------------\u001b[0m",
      "\u001b[0;31mValueError\u001b[0m                                Traceback (most recent call last)",
      "\u001b[1;32m/Users/dmitrii.shiriaev/Library/CloudStorage/OneDrive-KarolinskaInstitutet/Code/simulator-ml/KarpovAI/question_generation/evaluator-copy.ipynb Cell 7\u001b[0m line \u001b[0;36m1\n\u001b[0;32m----> <a href='vscode-notebook-cell:/Users/dmitrii.shiriaev/Library/CloudStorage/OneDrive-KarolinskaInstitutet/Code/simulator-ml/KarpovAI/question_generation/evaluator-copy.ipynb#W6sZmlsZQ%3D%3D?line=0'>1</a>\u001b[0m data_generator \u001b[39m=\u001b[39m DatasetGenerator\u001b[39m.\u001b[39;49mfrom_documents(\n\u001b[1;32m      <a href='vscode-notebook-cell:/Users/dmitrii.shiriaev/Library/CloudStorage/OneDrive-KarolinskaInstitutet/Code/simulator-ml/KarpovAI/question_generation/evaluator-copy.ipynb#W6sZmlsZQ%3D%3D?line=1'>2</a>\u001b[0m     documents\u001b[39m=\u001b[39;49mdocs,\n\u001b[1;32m      <a href='vscode-notebook-cell:/Users/dmitrii.shiriaev/Library/CloudStorage/OneDrive-KarolinskaInstitutet/Code/simulator-ml/KarpovAI/question_generation/evaluator-copy.ipynb#W6sZmlsZQ%3D%3D?line=2'>3</a>\u001b[0m     num_questions_per_chunk\u001b[39m=\u001b[39;49m\u001b[39m2\u001b[39;49m,\n\u001b[1;32m      <a href='vscode-notebook-cell:/Users/dmitrii.shiriaev/Library/CloudStorage/OneDrive-KarolinskaInstitutet/Code/simulator-ml/KarpovAI/question_generation/evaluator-copy.ipynb#W6sZmlsZQ%3D%3D?line=3'>4</a>\u001b[0m     question_gen_query\u001b[39m=\u001b[39;49m\u001b[39m\"\u001b[39;49m\u001b[39mНа русском языке\u001b[39;49m\u001b[39m\"\u001b[39;49m\n\u001b[1;32m      <a href='vscode-notebook-cell:/Users/dmitrii.shiriaev/Library/CloudStorage/OneDrive-KarolinskaInstitutet/Code/simulator-ml/KarpovAI/question_generation/evaluator-copy.ipynb#W6sZmlsZQ%3D%3D?line=4'>5</a>\u001b[0m )\n",
      "File \u001b[0;32m~/miniconda3/envs/karpovai/lib/python3.11/site-packages/llama_index/evaluation/dataset_generation.py:148\u001b[0m, in \u001b[0;36mDatasetGenerator.from_documents\u001b[0;34m(cls, documents, service_context, num_questions_per_chunk, text_question_template, text_qa_template, question_gen_query, required_keywords, exclude_keywords, show_progress)\u001b[0m\n\u001b[1;32m    146\u001b[0m \u001b[39m\u001b[39m\u001b[39m\"\"\"Generate dataset from documents.\"\"\"\u001b[39;00m\n\u001b[1;32m    147\u001b[0m \u001b[39mif\u001b[39;00m service_context \u001b[39mis\u001b[39;00m \u001b[39mNone\u001b[39;00m:\n\u001b[0;32m--> 148\u001b[0m     service_context \u001b[39m=\u001b[39m _get_default_service_context()\n\u001b[1;32m    149\u001b[0m nodes \u001b[39m=\u001b[39m service_context\u001b[39m.\u001b[39mnode_parser\u001b[39m.\u001b[39mget_nodes_from_documents(documents)\n\u001b[1;32m    151\u001b[0m \u001b[39m# use node postprocessor to filter nodes\u001b[39;00m\n",
      "File \u001b[0;32m~/miniconda3/envs/karpovai/lib/python3.11/site-packages/llama_index/evaluation/dataset_generation.py:32\u001b[0m, in \u001b[0;36m_get_default_service_context\u001b[0;34m()\u001b[0m\n\u001b[1;32m     30\u001b[0m \u001b[39mdef\u001b[39;00m \u001b[39m_get_default_service_context\u001b[39m() \u001b[39m-\u001b[39m\u001b[39m>\u001b[39m ServiceContext:\n\u001b[1;32m     31\u001b[0m \u001b[39m    \u001b[39m\u001b[39m\"\"\"Get default service context.\"\"\"\u001b[39;00m\n\u001b[0;32m---> 32\u001b[0m     llm \u001b[39m=\u001b[39m OpenAI(temperature\u001b[39m=\u001b[39;49m\u001b[39m0\u001b[39;49m, model\u001b[39m=\u001b[39;49m\u001b[39m\"\u001b[39;49m\u001b[39mgpt-3.5-turbo\u001b[39;49m\u001b[39m\"\u001b[39;49m)\n\u001b[1;32m     33\u001b[0m     service_context \u001b[39m=\u001b[39m ServiceContext\u001b[39m.\u001b[39mfrom_defaults(llm\u001b[39m=\u001b[39mllm, chunk_size_limit\u001b[39m=\u001b[39m\u001b[39m3000\u001b[39m)\n\u001b[1;32m     34\u001b[0m     \u001b[39mreturn\u001b[39;00m service_context\n",
      "File \u001b[0;32m~/miniconda3/envs/karpovai/lib/python3.11/site-packages/llama_index/llms/openai.py:75\u001b[0m, in \u001b[0;36mOpenAI.__init__\u001b[0;34m(self, model, temperature, max_tokens, additional_kwargs, max_retries, api_key, api_type, api_base, api_version, callback_manager, **kwargs)\u001b[0m\n\u001b[1;32m     59\u001b[0m \u001b[39mdef\u001b[39;00m \u001b[39m__init__\u001b[39m(\n\u001b[1;32m     60\u001b[0m     \u001b[39mself\u001b[39m,\n\u001b[1;32m     61\u001b[0m     model: \u001b[39mstr\u001b[39m \u001b[39m=\u001b[39m \u001b[39m\"\u001b[39m\u001b[39mgpt-3.5-turbo\u001b[39m\u001b[39m\"\u001b[39m,\n\u001b[0;32m   (...)\u001b[0m\n\u001b[1;32m     71\u001b[0m     \u001b[39m*\u001b[39m\u001b[39m*\u001b[39mkwargs: Any,\n\u001b[1;32m     72\u001b[0m ) \u001b[39m-\u001b[39m\u001b[39m>\u001b[39m \u001b[39mNone\u001b[39;00m:\n\u001b[1;32m     73\u001b[0m     additional_kwargs \u001b[39m=\u001b[39m additional_kwargs \u001b[39mor\u001b[39;00m {}\n\u001b[0;32m---> 75\u001b[0m     api_key, api_type, api_base, api_version \u001b[39m=\u001b[39m resolve_openai_credentials(\n\u001b[1;32m     76\u001b[0m         api_key\u001b[39m=\u001b[39;49mapi_key,\n\u001b[1;32m     77\u001b[0m         api_type\u001b[39m=\u001b[39;49mapi_type,\n\u001b[1;32m     78\u001b[0m         api_base\u001b[39m=\u001b[39;49mapi_base,\n\u001b[1;32m     79\u001b[0m         api_version\u001b[39m=\u001b[39;49mapi_version,\n\u001b[1;32m     80\u001b[0m     )\n\u001b[1;32m     82\u001b[0m     \u001b[39msuper\u001b[39m()\u001b[39m.\u001b[39m\u001b[39m__init__\u001b[39m(\n\u001b[1;32m     83\u001b[0m         model\u001b[39m=\u001b[39mmodel,\n\u001b[1;32m     84\u001b[0m         temperature\u001b[39m=\u001b[39mtemperature,\n\u001b[0;32m   (...)\u001b[0m\n\u001b[1;32m     93\u001b[0m         \u001b[39m*\u001b[39m\u001b[39m*\u001b[39mkwargs,\n\u001b[1;32m     94\u001b[0m     )\n",
      "File \u001b[0;32m~/miniconda3/envs/karpovai/lib/python3.11/site-packages/llama_index/llms/openai_utils.py:295\u001b[0m, in \u001b[0;36mresolve_openai_credentials\u001b[0;34m(api_key, api_type, api_base, api_version)\u001b[0m\n\u001b[1;32m    292\u001b[0m api_version \u001b[39m=\u001b[39m api_version \u001b[39mor\u001b[39;00m openai\u001b[39m.\u001b[39mapi_version \u001b[39mor\u001b[39;00m DEFAULT_OPENAI_API_VERSION\n\u001b[1;32m    294\u001b[0m \u001b[39mif\u001b[39;00m \u001b[39mnot\u001b[39;00m api_key:\n\u001b[0;32m--> 295\u001b[0m     \u001b[39mraise\u001b[39;00m \u001b[39mValueError\u001b[39;00m(MISSING_API_KEY_ERROR_MESSAGE)\n\u001b[1;32m    297\u001b[0m \u001b[39mreturn\u001b[39;00m api_key, api_type, api_base, api_version\n",
      "\u001b[0;31mValueError\u001b[0m: No API key found for OpenAI.\nPlease set either the OPENAI_API_KEY environment variable or openai.api_key prior to initialization.\nAPI keys can be found or created at https://platform.openai.com/account/api-keys\n"
     ]
    }
   ],
   "source": [
    "data_generator = DatasetGenerator.from_documents(\n",
    "    documents=docs,\n",
    "    num_questions_per_chunk=2,\n",
    "    question_gen_query=\"На русском языке\"\n",
    ")\n"
   ]
  },
  {
   "cell_type": "code",
   "execution_count": null,
   "metadata": {},
   "outputs": [],
   "source": [
    "eval_questions = data_generator.generate_questions_from_nodes()"
   ]
  },
  {
   "cell_type": "code",
   "execution_count": null,
   "metadata": {},
   "outputs": [],
   "source": []
  }
 ],
 "metadata": {
  "kernelspec": {
   "display_name": "karpovai",
   "language": "python",
   "name": "python3"
  },
  "language_info": {
   "codemirror_mode": {
    "name": "ipython",
    "version": 3
   },
   "file_extension": ".py",
   "mimetype": "text/x-python",
   "name": "python",
   "nbconvert_exporter": "python",
   "pygments_lexer": "ipython3",
   "version": "3.11.5"
  }
 },
 "nbformat": 4,
 "nbformat_minor": 2
}
