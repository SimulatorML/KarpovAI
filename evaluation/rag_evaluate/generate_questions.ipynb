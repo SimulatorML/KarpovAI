{
 "cells": [
  {
   "cell_type": "code",
   "execution_count": 1,
   "metadata": {},
   "outputs": [],
   "source": [
    "import json\n",
    "\n",
    "from llama_index.llms import OpenAI\n",
    "from llama_index.finetuning import EmbeddingQAFinetuneDataset\n",
    "from llama_index.evaluation import DatasetGenerator, RelevancyEvaluator, FaithfulnessEvaluator\n",
    "from llama_index import (\n",
    "    StorageContext,\n",
    "    load_index_from_storage,\n",
    "    ServiceContext\n",
    ")\n",
    "\n",
    "from openai import AsyncOpenAI\n",
    "\n",
    "#node sampler - sample more relevant (informative) nodes \n",
    "# qagenerator - generate questions to the sampled nodes\n",
    "from evaluate_rag_utils import NodeSampler, QAGenerator"
   ]
  },
  {
   "cell_type": "code",
   "execution_count": 3,
   "metadata": {},
   "outputs": [],
   "source": [
    "# get more relevant nodes\n",
    "# having higher counts of relevant and lower count of irrelevant words\n",
    "# limit sample to 5% of all nodes\n",
    "node_sampler = NodeSampler('relevant_words.txt', 'irrelevant_words.txt')\n",
    "informative_nodes_1000 = node_sampler.informative_nodes(\n",
    "    video_info_path='../../data/video_info.json', \n",
    "    chunk_size=1024, \n",
    "    fraction=0.05\n",
    "    )\n",
    "\n",
    "informative_nodes_3000 = node_sampler.informative_nodes(\n",
    "    video_info_path='../../data/video_info.json', \n",
    "    chunk_size=1024*3, \n",
    "    fraction=0.05\n",
    "    )\n",
    "\n",
    "nodes_1000 = informative_nodes_1000[:10]\n",
    "nodes_3000 = informative_nodes_3000[:10]"
   ]
  },
  {
   "cell_type": "code",
   "execution_count": 3,
   "metadata": {},
   "outputs": [],
   "source": [
    "# initialize the model\n",
    "llm = OpenAI(temperature=0, model=\"gpt-3.5-turbo-1106\")\n",
    "\n",
    "# create QA generator\n",
    "qa_generator = QAGenerator(llm=llm)"
   ]
  },
  {
   "cell_type": "code",
   "execution_count": 6,
   "metadata": {},
   "outputs": [
    {
     "name": "stderr",
     "output_type": "stream",
     "text": [
      "100%|██████████| 10/10 [00:16<00:00,  1.69s/it]\n",
      "100%|██████████| 10/10 [00:18<00:00,  1.88s/it]\n"
     ]
    }
   ],
   "source": [
    "# generate:\n",
    "# i) question-node pairs, save as json at qa_json_path\n",
    "# ii) question-document pairs at doc_question_path\n",
    "qa_dataset_1000 = qa_generator.generate_document_question_pairs(\n",
    "    nodes=nodes_1000,\n",
    "    doc_json_path='../../data/video_info.json',\n",
    "    doc_question_path='doc_question_dataset_1000.json',\n",
    "    qa_json_path='question_node_dataset_1000.json'\n",
    ")\n",
    "\n",
    "qa_dataset_3000 = qa_generator.generate_document_question_pairs(\n",
    "    nodes=nodes_3000,\n",
    "    doc_json_path='../../data/video_info.json',\n",
    "    doc_question_path='doc_question_dataset_3000.json',\n",
    "    qa_json_path='question_node_dataset_3000.json'\n",
    ")"
   ]
  }
 ],
 "metadata": {
  "kernelspec": {
   "display_name": "karpovai",
   "language": "python",
   "name": "python3"
  },
  "language_info": {
   "codemirror_mode": {
    "name": "ipython",
    "version": 3
   },
   "file_extension": ".py",
   "mimetype": "text/x-python",
   "name": "python",
   "nbconvert_exporter": "python",
   "pygments_lexer": "ipython3",
   "version": "3.11.5"
  }
 },
 "nbformat": 4,
 "nbformat_minor": 2
}
