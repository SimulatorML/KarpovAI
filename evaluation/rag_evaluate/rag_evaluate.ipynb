{
 "cells": [
  {
   "cell_type": "code",
   "execution_count": 1,
   "metadata": {},
   "outputs": [],
   "source": [
    "import asyncio\n",
    "# make the async code working in the notebook cells\n",
    "import nest_asyncio\n",
    "nest_asyncio.apply()\n",
    "\n",
    "from llama_index.finetuning import EmbeddingQAFinetuneDataset\n",
    "from llama_index import StorageContext, load_index_from_storage\n",
    "\n",
    "from openai import AsyncOpenAI\n",
    "\n",
    "from evaluate_rag_utils import Validator"
   ]
  },
  {
   "cell_type": "code",
   "execution_count": 2,
   "metadata": {},
   "outputs": [],
   "source": [
    "# load question: node dataset\n",
    "qa_dataset_1000 = EmbeddingQAFinetuneDataset.from_json('question_node_dataset_1000.json')\n",
    "# get the questions\n",
    "eval_questions = qa_dataset_1000.queries.values()\n",
    "\n",
    "# load indexed nodes\n",
    "storage_cntxt_512 = StorageContext.from_defaults(persist_dir=\"../../data/index_storage_512\")\n",
    "idx_512 = load_index_from_storage(storage_cntxt_512)\n",
    "storage_cntxt_1024 = StorageContext.from_defaults(persist_dir=\"../../data/index_storage_1024\")\n",
    "idx_1024 = load_index_from_storage(storage_cntxt_1024)"
   ]
  },
  {
   "cell_type": "code",
   "execution_count": 3,
   "metadata": {},
   "outputs": [],
   "source": [
    "async def main():\n",
    "    client = AsyncOpenAI()\n",
    "    semaphore = asyncio.Semaphore(100)\n",
    "\n",
    "    # params for different Validators to be instantiated\n",
    "    params_list = [\n",
    "        {\n",
    "            'client': client,\n",
    "            'index': idx_1024,\n",
    "            'semaphore': semaphore\n",
    "            },\n",
    "        {\n",
    "            'client': client,\n",
    "            'index': idx_512,\n",
    "            'semaphore': semaphore,\n",
    "            'has_node_postprocessors': True\n",
    "            }\n",
    "    ]\n",
    "    # classes that validate QA dataset with default evaluators\n",
    "    validators = [Validator(**params) for params in params_list]\n",
    "    # paths for JSON files with evaluated query - node - answer combinations\n",
    "    output_paths = [\n",
    "        'rag_evaluate_json_1024.json',\n",
    "        'rag_evaluate_json_512_postprocess_both_1.json',\n",
    "    ]\n",
    "\n",
    "    # generate Q-A for 2 questions and evaluate them\n",
    "    async with asyncio.TaskGroup() as tg:\n",
    "                    tasks = [\n",
    "                        tg.create_task(\n",
    "                            validator.answers_evaluated_list(\n",
    "                                queries=list(eval_questions)[:2],\n",
    "                                output_path=output_path\n",
    "                                )\n",
    "                        )\n",
    "                        for validator, output_path in zip(validators, output_paths)\n",
    "                    ]\n",
    "\n",
    "if __name__ == '__main__':\n",
    "    asyncio.run(main())"
   ]
  }
 ],
 "metadata": {
  "kernelspec": {
   "display_name": "karpovai",
   "language": "python",
   "name": "python3"
  },
  "language_info": {
   "codemirror_mode": {
    "name": "ipython",
    "version": 3
   },
   "file_extension": ".py",
   "mimetype": "text/x-python",
   "name": "python",
   "nbconvert_exporter": "python",
   "pygments_lexer": "ipython3",
   "version": "3.11.5"
  }
 },
 "nbformat": 4,
 "nbformat_minor": 2
}
