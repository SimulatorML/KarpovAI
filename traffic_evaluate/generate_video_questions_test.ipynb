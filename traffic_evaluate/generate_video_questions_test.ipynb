{
 "cells": [
  {
   "cell_type": "markdown",
   "metadata": {},
   "source": [
    "you can try it yourself - this code should parse and split 3 videos, making nodes and asking questions for them."
   ]
  },
  {
   "cell_type": "code",
   "execution_count": 1,
   "metadata": {},
   "outputs": [],
   "source": [
    "import os\n",
    "\n",
    "import openai\n",
    "\n",
    "from dotenv import load_dotenv\n",
    "\n",
    "from llama_index.llms import OpenAI\n",
    "\n",
    "# function i wrote\n",
    "from evaluate_utils import generate_video_questions\n",
    "\n",
    "# make the async code working in the notebook cells\n",
    "import nest_asyncio"
   ]
  },
  {
   "cell_type": "code",
   "execution_count": 2,
   "metadata": {},
   "outputs": [],
   "source": [
    "# make the async code working in the notebook cells\n",
    "nest_asyncio.apply()\n",
    "\n",
    "# get the API key to the variable\n",
    "load_dotenv(dotenv_path='../.env')\n",
    "openai.api_key = os.getenv(\"OPENAI_API_KEY\")\n",
    "\n",
    "# initialize the model\n",
    "gpt3 = OpenAI(temperature=0, model=\"gpt-3.5-turbo\")"
   ]
  },
  {
   "cell_type": "code",
   "execution_count": 3,
   "metadata": {},
   "outputs": [
    {
     "name": "stderr",
     "output_type": "stream",
     "text": [
      "100%|██████████| 5/5 [00:11<00:00,  2.33s/it]\n"
     ]
    }
   ],
   "source": [
    "generate_video_questions(\n",
    "        video_info_path='../data/video_info.json',\n",
    "        llm=gpt3,\n",
    "        chunk_size = 3 * 1024,\n",
    "        test_version=True\n",
    "        )"
   ]
  }
 ],
 "metadata": {
  "kernelspec": {
   "display_name": "karpovai",
   "language": "python",
   "name": "python3"
  },
  "language_info": {
   "codemirror_mode": {
    "name": "ipython",
    "version": 3
   },
   "file_extension": ".py",
   "mimetype": "text/x-python",
   "name": "python",
   "nbconvert_exporter": "python",
   "pygments_lexer": "ipython3",
   "version": "3.11.5"
  }
 },
 "nbformat": 4,
 "nbformat_minor": 2
}
